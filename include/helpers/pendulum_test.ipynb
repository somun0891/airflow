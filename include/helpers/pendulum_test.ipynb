{
 "cells": [
  {
   "cell_type": "code",
   "execution_count": 20,
   "metadata": {},
   "outputs": [],
   "source": [
    "import pendulum\n",
    "\n",
    "from IPython.core.interactiveshell import InteractiveShell\n",
    "InteractiveShell.ast_node_interactivity = \"all\""
   ]
  },
  {
   "cell_type": "code",
   "execution_count": 31,
   "metadata": {},
   "outputs": [],
   "source": [
    "makedate = pendulum.datetime(2024,1,1,15,12,0)\n",
    "\n",
    "now = pendulum.now(\"Asia/Kolkata\")"
   ]
  },
  {
   "cell_type": "code",
   "execution_count": 32,
   "metadata": {},
   "outputs": [
    {
     "data": {
      "text/plain": [
       "DateTime(2024, 10, 3, 11, 47, 9, 250287, tzinfo=Timezone('America/New_York'))"
      ]
     },
     "execution_count": 32,
     "metadata": {},
     "output_type": "execute_result"
    },
    {
     "data": {
      "text/plain": [
       "'2024-10-01T21:17:09.250287+05:30'"
      ]
     },
     "execution_count": 32,
     "metadata": {},
     "output_type": "execute_result"
    },
    {
     "data": {
      "text/plain": [
       "DateTime(2024, 9, 29, 0, 0, 0, tzinfo=Timezone('Asia/Kolkata'))"
      ]
     },
     "execution_count": 32,
     "metadata": {},
     "output_type": "execute_result"
    },
    {
     "data": {
      "text/plain": [
       "5"
      ]
     },
     "execution_count": 32,
     "metadata": {},
     "output_type": "execute_result"
    },
    {
     "data": {
      "text/plain": [
       "'5 hours'"
      ]
     },
     "execution_count": 32,
     "metadata": {},
     "output_type": "execute_result"
    }
   ],
   "source": [
    "now.in_timezone(\"America/New_York\").add(days=2)\n",
    "now.to_iso8601_string()\n",
    "dt = pendulum.today().subtract(days=2)\n",
    "\n",
    "dt\n",
    "\n",
    "minutes_duration=pendulum.duration(minutes=300)\n",
    "\n",
    "minutes_duration.in_hours()\n",
    "minutes_duration.in_words(locale=\"en-us\")\n",
    "\n"
   ]
  },
  {
   "cell_type": "code",
   "execution_count": 22,
   "metadata": {},
   "outputs": [
    {
     "data": {
      "text/plain": [
       "3"
      ]
     },
     "execution_count": 22,
     "metadata": {},
     "output_type": "execute_result"
    },
    {
     "name": "stdout",
     "output_type": "stream",
     "text": [
      "2024-09-28 20:30:57.668396+05:30\n",
      "2024-09-29 20:30:57.668396+05:30\n",
      "2024-09-30 20:30:57.668396+05:30\n",
      "2024-10-01 20:30:57.668396+05:30\n"
     ]
    }
   ],
   "source": [
    "dt = pendulum.now()\n",
    "\n",
    "# A period is the difference between 2 instances\n",
    "period = dt - dt.subtract(days=3)\n",
    "\n",
    "\n",
    "period.in_days()\n",
    "\n",
    "# A period is iterable\n",
    "for dt in period:\n",
    "    print(dt)\n",
    "  "
   ]
  },
  {
   "cell_type": "code",
   "execution_count": 26,
   "metadata": {},
   "outputs": [
    {
     "data": {
      "text/plain": [
       "DateTime(2024, 10, 1, 11, 6, 32, 627745, tzinfo=Timezone('America/New_York'))"
      ]
     },
     "execution_count": 26,
     "metadata": {},
     "output_type": "execute_result"
    }
   ],
   "source": [
    "utc=pendulum.now(\"UTC\")\n",
    "tz=pendulum.timezone('America/New_York')\n",
    "tz.convert(utc)"
   ]
  },
  {
   "cell_type": "code",
   "execution_count": 27,
   "metadata": {},
   "outputs": [
    {
     "name": "stdout",
     "output_type": "stream",
     "text": [
      "2 years 2 days 10 hours\n"
     ]
    }
   ],
   "source": [
    "\n",
    "time_delta = pendulum.duration(days = 2,\n",
    "                               hours = 10, \n",
    "                               years = 2)\n",
    "print(time_delta)\n",
    " "
   ]
  },
  {
   "cell_type": "code",
   "execution_count": 33,
   "metadata": {},
   "outputs": [
    {
     "data": {
      "text/plain": [
       "'Sun, Sep 29, 2024 12:00 AM'"
      ]
     },
     "execution_count": 33,
     "metadata": {},
     "output_type": "execute_result"
    },
    {
     "name": "stdout",
     "output_type": "stream",
     "text": [
      "Sunday 29th of September 2024 00:00:00 AM\n",
      "2024-09-29 00:00:00 IST+0530\n"
     ]
    }
   ],
   "source": [
    "# Formatting date-time\n",
    "dt.to_day_datetime_string()\n",
    "formatted_str = dt.format('dddd Do [of] MMMM YYYY HH:mm:ss A')\n",
    "print(formatted_str)\n",
    " \n",
    "new_str = dt.strftime('%Y-%m-%d %H:%M:%S %Z%z')\n",
    "print(new_str)"
   ]
  }
 ],
 "metadata": {
  "kernelspec": {
   "display_name": "venv",
   "language": "python",
   "name": "python3"
  },
  "language_info": {
   "codemirror_mode": {
    "name": "ipython",
    "version": 3
   },
   "file_extension": ".py",
   "mimetype": "text/x-python",
   "name": "python",
   "nbconvert_exporter": "python",
   "pygments_lexer": "ipython3",
   "version": "3.10.12"
  }
 },
 "nbformat": 4,
 "nbformat_minor": 2
}
